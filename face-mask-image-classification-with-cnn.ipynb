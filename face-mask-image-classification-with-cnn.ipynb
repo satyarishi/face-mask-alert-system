{
 "cells": [
  {
   "cell_type": "code",
   "execution_count": 1,
   "source": [
    "# This Python 3 environment comes with many helpful analytics libraries installed\n",
    "# It is defined by the kaggle/python Docker image: https://github.com/kaggle/docker-python\n",
    "# For example, here's several helpful packages to load\n",
    "\n",
    "import numpy as np # linear algebra\n",
    "import pandas as pd # data processing, CSV file I/O (e.g. pd.read_csv)\n",
    "\n",
    "# Input data files are available in the read-only \"../input/\" directory\n",
    "# For example, running this (by clicking run or pressing Shift+Enter) will list all files under the input directory\n",
    "\n",
    "import os\n",
    "# for dirname, _, filenames in os.walk('/kaggle/input'):\n",
    "#     for filename in filenames:\n",
    "#         print(os.path.join(dirname, filename))\n",
    "\n",
    "# You can write up to 20GB to the current directory (/kaggle/working/) that gets preserved as output when you create a version using \"Save & Run All\" \n",
    "# You can also write temporary files to /kaggle/temp/, but they won't be saved outside of the current session"
   ],
   "outputs": [],
   "metadata": {
    "_cell_guid": "b1076dfc-b9ad-4769-8c92-a6c4dae69d19",
    "_uuid": "8f2839f25d086af736a60e9eeb907d3b93b6e0e5",
    "execution": {
     "iopub.execute_input": "2021-07-12T20:07:11.927597Z",
     "iopub.status.busy": "2021-07-12T20:07:11.923296Z",
     "iopub.status.idle": "2021-07-12T20:07:11.931248Z",
     "shell.execute_reply": "2021-07-12T20:07:11.930445Z"
    },
    "papermill": {
     "duration": 0.038093,
     "end_time": "2021-07-12T20:07:11.931422",
     "exception": false,
     "start_time": "2021-07-12T20:07:11.893329",
     "status": "completed"
    },
    "tags": []
   }
  },
  {
   "cell_type": "code",
   "execution_count": 2,
   "source": [
    "import os\n",
    "\n",
    "import pandas as pd\n",
    "import numpy as np\n",
    "import warnings\n",
    "warnings.filterwarnings(action=\"ignore\")\n",
    "import matplotlib.pyplot as plt\n",
    "%matplotlib inline\n",
    "import seaborn as sns\n",
    "from sklearn.preprocessing import StandardScaler \n",
    "from sklearn.model_selection import train_test_split \n",
    "from sklearn.metrics import classification_report\n",
    "#tensorflow libraries\n",
    "import tensorflow as tf\n",
    "from tensorflow import keras\n",
    "from tensorflow.keras.models import Sequential\n",
    "from tensorflow.keras.layers import MaxPooling2D, Dense, Dropout,Flatten, Conv2D\n",
    "from tensorflow.keras.optimizers import Adam\n",
    "from tensorflow.keras.losses import SparseCategoricalCrossentropy\n",
    "from keras.preprocessing.image import ImageDataGenerator\n",
    "from tensorflow.keras.callbacks import TensorBoard,EarlyStopping "
   ],
   "outputs": [
    {
     "output_type": "stream",
     "name": "stderr",
     "text": [
      "2021-07-29 21:59:28.555208: I tensorflow/stream_executor/platform/default/dso_loader.cc:53] Successfully opened dynamic library libcudart.so.11.0\n"
     ]
    }
   ],
   "metadata": {
    "execution": {
     "iopub.execute_input": "2021-07-12T20:07:11.985319Z",
     "iopub.status.busy": "2021-07-12T20:07:11.984412Z",
     "iopub.status.idle": "2021-07-12T20:07:19.484531Z",
     "shell.execute_reply": "2021-07-12T20:07:19.483736Z",
     "shell.execute_reply.started": "2021-07-09T14:52:05.407957Z"
    },
    "papermill": {
     "duration": 7.532605,
     "end_time": "2021-07-12T20:07:19.484681",
     "exception": false,
     "start_time": "2021-07-12T20:07:11.952076",
     "status": "completed"
    },
    "tags": []
   }
  },
  {
   "cell_type": "code",
   "execution_count": 3,
   "source": [
    "with_mask_dir=r'../dataset/with_mask'\n",
    "without_mask_dir=r'../dataset/without_mask'\n",
    "filepaths = []\n",
    "labels= []\n",
    "dict_list = [with_mask_dir, without_mask_dir]\n",
    "for i, j in enumerate(dict_list):\n",
    "    flist=os.listdir(j)\n",
    "    for f in flist:\n",
    "        fpath=os.path.join(j,f)\n",
    "        filepaths.append(fpath)\n",
    "        if i==0:\n",
    "          labels.append('with_mask')\n",
    "        else:\n",
    "          labels.append('without_mask') \n",
    "    \n",
    "Fseries = pd.Series(filepaths, name=\"filepaths\")\n",
    "Lseries = pd.Series(labels, name=\"labels\")\n",
    "mask_data = pd.concat([Fseries,Lseries], axis=1)\n",
    "mask_df = pd.DataFrame(mask_data)\n",
    "print(mask_df.head())\n",
    "print(mask_df[\"labels\"].value_counts())"
   ],
   "outputs": [
    {
     "output_type": "stream",
     "name": "stdout",
     "text": [
      "                                 filepaths     labels\n",
      "0  ../dataset/with_mask/with_mask_2848.jpg  with_mask\n",
      "1   ../dataset/with_mask/with_mask_525.jpg  with_mask\n",
      "2  ../dataset/with_mask/with_mask_2327.jpg  with_mask\n",
      "3  ../dataset/with_mask/with_mask_2782.jpg  with_mask\n",
      "4  ../dataset/with_mask/with_mask_3030.jpg  with_mask\n",
      "without_mask    3827\n",
      "with_mask       3725\n",
      "Name: labels, dtype: int64\n"
     ]
    }
   ],
   "metadata": {
    "execution": {
     "iopub.execute_input": "2021-07-12T20:07:19.532649Z",
     "iopub.status.busy": "2021-07-12T20:07:19.531863Z",
     "iopub.status.idle": "2021-07-12T20:07:20.343183Z",
     "shell.execute_reply": "2021-07-12T20:07:20.343652Z",
     "shell.execute_reply.started": "2021-07-09T14:53:23.252676Z"
    },
    "papermill": {
     "duration": 0.839371,
     "end_time": "2021-07-12T20:07:20.343833",
     "exception": false,
     "start_time": "2021-07-12T20:07:19.504462",
     "status": "completed"
    },
    "tags": []
   }
  },
  {
   "cell_type": "code",
   "execution_count": 4,
   "source": [
    "#shape of datatset\n",
    "mask_df.shape"
   ],
   "outputs": [
    {
     "output_type": "execute_result",
     "data": {
      "text/plain": [
       "(7552, 2)"
      ]
     },
     "metadata": {},
     "execution_count": 4
    }
   ],
   "metadata": {
    "execution": {
     "iopub.execute_input": "2021-07-12T20:07:20.387059Z",
     "iopub.status.busy": "2021-07-12T20:07:20.386384Z",
     "iopub.status.idle": "2021-07-12T20:07:20.393443Z",
     "shell.execute_reply": "2021-07-12T20:07:20.394064Z",
     "shell.execute_reply.started": "2021-07-09T14:53:27.082428Z"
    },
    "papermill": {
     "duration": 0.030217,
     "end_time": "2021-07-12T20:07:20.394238",
     "exception": false,
     "start_time": "2021-07-12T20:07:20.364021",
     "status": "completed"
    },
    "tags": []
   }
  },
  {
   "cell_type": "code",
   "execution_count": 5,
   "source": [
    "train_set, test_images = train_test_split(mask_df, test_size=0.3, random_state=42)\n",
    "test_set, val_set = train_test_split(test_images, test_size=0.2, random_state=42)"
   ],
   "outputs": [],
   "metadata": {
    "execution": {
     "iopub.execute_input": "2021-07-12T20:07:20.438557Z",
     "iopub.status.busy": "2021-07-12T20:07:20.437854Z",
     "iopub.status.idle": "2021-07-12T20:07:20.445923Z",
     "shell.execute_reply": "2021-07-12T20:07:20.446467Z",
     "shell.execute_reply.started": "2021-07-09T14:53:29.541275Z"
    },
    "papermill": {
     "duration": 0.032333,
     "end_time": "2021-07-12T20:07:20.446643",
     "exception": false,
     "start_time": "2021-07-12T20:07:20.414310",
     "status": "completed"
    },
    "tags": []
   }
  },
  {
   "cell_type": "code",
   "execution_count": 6,
   "source": [
    "#Generate batches of tensor image data with real-time data augmentation.\n",
    "image_gen = ImageDataGenerator(preprocessing_function= tf.keras.applications.mobilenet_v2.preprocess_input)\n",
    "\n",
    "train = image_gen.flow_from_dataframe(dataframe= train_set,x_col=\"filepaths\",y_col=\"labels\",\n",
    "                                      target_size=(244,244),\n",
    "                                      color_mode='grayscale',\n",
    "                                      class_mode=\"categorical\", #used for Sequential Model\n",
    "                                      batch_size=32,\n",
    "                                      shuffle=False            #do not shuffle data\n",
    "                                     )\n",
    "\n",
    "test = image_gen.flow_from_dataframe(dataframe= test_set,x_col=\"filepaths\", y_col=\"labels\",\n",
    "                                     target_size=(244,244),\n",
    "                                     color_mode='grayscale',\n",
    "                                     class_mode=\"categorical\",\n",
    "                                     batch_size=32,\n",
    "                                     shuffle= False\n",
    "                                    )\n",
    "\n",
    "val = image_gen.flow_from_dataframe(dataframe= val_set,x_col=\"filepaths\", y_col=\"labels\",\n",
    "                                    target_size=(244,244),\n",
    "                                    color_mode= 'grayscale',\n",
    "                                    class_mode=\"categorical\",\n",
    "                                    batch_size=32,\n",
    "                                    shuffle=False\n",
    "                                   )"
   ],
   "outputs": [
    {
     "output_type": "stream",
     "name": "stdout",
     "text": [
      "Found 5286 validated image filenames belonging to 2 classes.\n",
      "Found 1812 validated image filenames belonging to 2 classes.\n",
      "Found 454 validated image filenames belonging to 2 classes.\n"
     ]
    }
   ],
   "metadata": {
    "execution": {
     "iopub.execute_input": "2021-07-12T20:07:20.490734Z",
     "iopub.status.busy": "2021-07-12T20:07:20.489945Z",
     "iopub.status.idle": "2021-07-12T20:07:33.996465Z",
     "shell.execute_reply": "2021-07-12T20:07:33.997163Z",
     "shell.execute_reply.started": "2021-07-09T14:53:32.871776Z"
    },
    "papermill": {
     "duration": 13.530551,
     "end_time": "2021-07-12T20:07:33.997343",
     "exception": false,
     "start_time": "2021-07-12T20:07:20.466792",
     "status": "completed"
    },
    "tags": []
   }
  },
  {
   "cell_type": "code",
   "execution_count": 7,
   "source": [
    "classes=list(train.class_indices.keys())\n",
    "print (classes)"
   ],
   "outputs": [
    {
     "output_type": "stream",
     "name": "stdout",
     "text": [
      "['with_mask', 'without_mask']\n"
     ]
    }
   ],
   "metadata": {
    "execution": {
     "iopub.execute_input": "2021-07-12T20:07:34.044095Z",
     "iopub.status.busy": "2021-07-12T20:07:34.043341Z",
     "iopub.status.idle": "2021-07-12T20:07:34.050048Z",
     "shell.execute_reply": "2021-07-12T20:07:34.049469Z",
     "shell.execute_reply.started": "2021-07-09T14:53:51.511728Z"
    },
    "papermill": {
     "duration": 0.031113,
     "end_time": "2021-07-12T20:07:34.050193",
     "exception": false,
     "start_time": "2021-07-12T20:07:34.019080",
     "status": "completed"
    },
    "tags": []
   }
  },
  {
   "cell_type": "code",
   "execution_count": 8,
   "source": [
    "# def show_images(image_gen):\n",
    "#     test_dict = test.class_indices\n",
    "#     classes = list(test_dict.keys())\n",
    "#     images, labels=next(image_gen) # get a sample batch from the generator \n",
    "#     plt.figure(figsize=(20,20))\n",
    "#     length = len(labels)\n",
    "#     if length<25:\n",
    "#         r=length\n",
    "#     else:\n",
    "#         r=25\n",
    "#     for i in range(r):\n",
    "#         plt.subplot(5,5,i+1)\n",
    "#         image=(images[i]+1)/2 #scale images between 0 and 1\n",
    "#         plt.imshow(image)\n",
    "#         index=np.argmax(labels[i])\n",
    "#         class_name=classes[index]\n",
    "#         plt.title(class_name, color=\"green\",fontsize=16)\n",
    "#         plt.axis('off')\n",
    "#     plt.show()"
   ],
   "outputs": [],
   "metadata": {
    "execution": {
     "iopub.execute_input": "2021-07-12T20:07:34.103317Z",
     "iopub.status.busy": "2021-07-12T20:07:34.102512Z",
     "iopub.status.idle": "2021-07-12T20:07:34.105702Z",
     "shell.execute_reply": "2021-07-12T20:07:34.105173Z",
     "shell.execute_reply.started": "2021-07-09T14:53:53.848966Z"
    },
    "papermill": {
     "duration": 0.033375,
     "end_time": "2021-07-12T20:07:34.105857",
     "exception": false,
     "start_time": "2021-07-12T20:07:34.072482",
     "status": "completed"
    },
    "tags": []
   }
  },
  {
   "cell_type": "code",
   "execution_count": 9,
   "source": [
    "#show_images(train)"
   ],
   "outputs": [],
   "metadata": {
    "execution": {
     "iopub.execute_input": "2021-07-12T20:07:34.157672Z",
     "iopub.status.busy": "2021-07-12T20:07:34.156987Z",
     "iopub.status.idle": "2021-07-12T20:07:36.611669Z",
     "shell.execute_reply": "2021-07-12T20:07:36.612191Z",
     "shell.execute_reply.started": "2021-07-09T14:53:57.924306Z"
    },
    "papermill": {
     "duration": 2.483298,
     "end_time": "2021-07-12T20:07:36.612365",
     "exception": false,
     "start_time": "2021-07-12T20:07:34.129067",
     "status": "completed"
    },
    "tags": []
   }
  },
  {
   "cell_type": "code",
   "execution_count": 10,
   "source": [
    "def plot_loss_and_accuracy(history):\n",
    "    history_df = pd.DataFrame(history)\n",
    "    history_df.loc[0:, ['loss', 'val_loss']].plot()\n",
    "    history_df.loc[0:, ['accuracy', 'val_accuracy']].plot()"
   ],
   "outputs": [],
   "metadata": {
    "execution": {
     "iopub.execute_input": "2021-07-12T20:07:36.738812Z",
     "iopub.status.busy": "2021-07-12T20:07:36.738117Z",
     "iopub.status.idle": "2021-07-12T20:07:36.741490Z",
     "shell.execute_reply": "2021-07-12T20:07:36.740958Z",
     "shell.execute_reply.started": "2021-07-09T14:54:25.510234Z"
    },
    "papermill": {
     "duration": 0.069069,
     "end_time": "2021-07-12T20:07:36.741654",
     "exception": false,
     "start_time": "2021-07-12T20:07:36.672585",
     "status": "completed"
    },
    "tags": []
   }
  },
  {
   "cell_type": "markdown",
   "source": [
    "# Model #1"
   ],
   "metadata": {
    "papermill": {
     "duration": 0.059134,
     "end_time": "2021-07-12T20:07:36.861221",
     "exception": false,
     "start_time": "2021-07-12T20:07:36.802087",
     "status": "completed"
    },
    "tags": []
   }
  },
  {
   "cell_type": "code",
   "execution_count": 11,
   "source": [
    "import keras\n",
    "from tensorflow.keras import layers\n",
    "\n",
    "CNN_2 = keras.Sequential([\n",
    "    layers.Conv2D(32, kernel_size=(3,3), activation='relu', padding='same', input_shape=(244,244,1)),\n",
    "    layers.MaxPooling2D(pool_size=(2, 2)),\n",
    "    \n",
    "    layers.Conv2D(64, kernel_size=(3,3), activation='relu'),\n",
    "    layers.MaxPooling2D(pool_size=(2, 2)),\n",
    "    \n",
    "    layers.Conv2D(32, kernel_size=(3,3), activation='relu'),\n",
    "    layers.MaxPooling2D(pool_size=(2, 2)),\n",
    "    layers.Dropout(0.25),\n",
    "    \n",
    "    layers.Flatten(),\n",
    "    layers.Dense(64, activation=\"relu\"),\n",
    "    layers.Dropout(0.5),\n",
    "    layers.Dense(2, activation='softmax')\n",
    "])\n",
    "\n",
    "CNN_2.compile(\n",
    "    optimizer='adam',\n",
    "    loss='categorical_crossentropy',\n",
    "    metrics=['accuracy']\n",
    ")\n",
    "CNN_2.optimizer.lr=0.001\n",
    "history_CNN = CNN_2.fit(train, validation_data= val, epochs=2,verbose=1)\n",
    "\n",
    "CNN_2.summary()"
   ],
   "outputs": [
    {
     "output_type": "stream",
     "name": "stderr",
     "text": [
      "2021-07-29 21:59:41.768759: I tensorflow/stream_executor/platform/default/dso_loader.cc:53] Successfully opened dynamic library libcuda.so.1\n",
      "2021-07-29 21:59:41.950545: I tensorflow/stream_executor/cuda/cuda_gpu_executor.cc:937] successful NUMA node read from SysFS had negative value (-1), but there must be at least one NUMA node, so returning NUMA node zero\n",
      "2021-07-29 21:59:41.950816: I tensorflow/core/common_runtime/gpu/gpu_device.cc:1733] Found device 0 with properties: \n",
      "pciBusID: 0000:01:00.0 name: NVIDIA GeForce GTX 1050 computeCapability: 6.1\n",
      "coreClock: 1.493GHz coreCount: 5 deviceMemorySize: 3.95GiB deviceMemoryBandwidth: 104.43GiB/s\n",
      "2021-07-29 21:59:41.950883: I tensorflow/stream_executor/platform/default/dso_loader.cc:53] Successfully opened dynamic library libcudart.so.11.0\n",
      "2021-07-29 21:59:42.254309: I tensorflow/stream_executor/platform/default/dso_loader.cc:53] Successfully opened dynamic library libcublas.so.11\n",
      "2021-07-29 21:59:42.254573: I tensorflow/stream_executor/platform/default/dso_loader.cc:53] Successfully opened dynamic library libcublasLt.so.11\n",
      "2021-07-29 21:59:42.389296: I tensorflow/stream_executor/platform/default/dso_loader.cc:53] Successfully opened dynamic library libcufft.so.10\n",
      "2021-07-29 21:59:42.444860: I tensorflow/stream_executor/platform/default/dso_loader.cc:53] Successfully opened dynamic library libcurand.so.10\n",
      "2021-07-29 21:59:42.490827: I tensorflow/stream_executor/platform/default/dso_loader.cc:53] Successfully opened dynamic library libcusolver.so.11\n",
      "2021-07-29 21:59:42.558547: I tensorflow/stream_executor/platform/default/dso_loader.cc:53] Successfully opened dynamic library libcusparse.so.11\n",
      "2021-07-29 21:59:42.568364: I tensorflow/stream_executor/platform/default/dso_loader.cc:53] Successfully opened dynamic library libcudnn.so.8\n",
      "2021-07-29 21:59:42.568735: I tensorflow/stream_executor/cuda/cuda_gpu_executor.cc:937] successful NUMA node read from SysFS had negative value (-1), but there must be at least one NUMA node, so returning NUMA node zero\n",
      "2021-07-29 21:59:42.569627: I tensorflow/stream_executor/cuda/cuda_gpu_executor.cc:937] successful NUMA node read from SysFS had negative value (-1), but there must be at least one NUMA node, so returning NUMA node zero\n",
      "2021-07-29 21:59:42.581103: I tensorflow/core/common_runtime/gpu/gpu_device.cc:1871] Adding visible gpu devices: 0\n",
      "2021-07-29 21:59:42.582672: I tensorflow/core/platform/cpu_feature_guard.cc:142] This TensorFlow binary is optimized with oneAPI Deep Neural Network Library (oneDNN) to use the following CPU instructions in performance-critical operations:  AVX2 FMA\n",
      "To enable them in other operations, rebuild TensorFlow with the appropriate compiler flags.\n",
      "2021-07-29 21:59:42.583895: I tensorflow/stream_executor/cuda/cuda_gpu_executor.cc:937] successful NUMA node read from SysFS had negative value (-1), but there must be at least one NUMA node, so returning NUMA node zero\n",
      "2021-07-29 21:59:42.584635: I tensorflow/core/common_runtime/gpu/gpu_device.cc:1733] Found device 0 with properties: \n",
      "pciBusID: 0000:01:00.0 name: NVIDIA GeForce GTX 1050 computeCapability: 6.1\n",
      "coreClock: 1.493GHz coreCount: 5 deviceMemorySize: 3.95GiB deviceMemoryBandwidth: 104.43GiB/s\n",
      "2021-07-29 21:59:42.584860: I tensorflow/stream_executor/cuda/cuda_gpu_executor.cc:937] successful NUMA node read from SysFS had negative value (-1), but there must be at least one NUMA node, so returning NUMA node zero\n",
      "2021-07-29 21:59:42.585648: I tensorflow/stream_executor/cuda/cuda_gpu_executor.cc:937] successful NUMA node read from SysFS had negative value (-1), but there must be at least one NUMA node, so returning NUMA node zero\n",
      "2021-07-29 21:59:42.586293: I tensorflow/core/common_runtime/gpu/gpu_device.cc:1871] Adding visible gpu devices: 0\n",
      "2021-07-29 21:59:42.587164: I tensorflow/stream_executor/platform/default/dso_loader.cc:53] Successfully opened dynamic library libcudart.so.11.0\n",
      "2021-07-29 21:59:47.183468: I tensorflow/core/common_runtime/gpu/gpu_device.cc:1258] Device interconnect StreamExecutor with strength 1 edge matrix:\n",
      "2021-07-29 21:59:47.183544: I tensorflow/core/common_runtime/gpu/gpu_device.cc:1264]      0 \n",
      "2021-07-29 21:59:47.183566: I tensorflow/core/common_runtime/gpu/gpu_device.cc:1277] 0:   N \n",
      "2021-07-29 21:59:47.183999: I tensorflow/stream_executor/cuda/cuda_gpu_executor.cc:937] successful NUMA node read from SysFS had negative value (-1), but there must be at least one NUMA node, so returning NUMA node zero\n",
      "2021-07-29 21:59:47.184809: I tensorflow/stream_executor/cuda/cuda_gpu_executor.cc:937] successful NUMA node read from SysFS had negative value (-1), but there must be at least one NUMA node, so returning NUMA node zero\n",
      "2021-07-29 21:59:47.185565: I tensorflow/stream_executor/cuda/cuda_gpu_executor.cc:937] successful NUMA node read from SysFS had negative value (-1), but there must be at least one NUMA node, so returning NUMA node zero\n",
      "2021-07-29 21:59:47.186229: I tensorflow/core/common_runtime/gpu/gpu_device.cc:1418] Created TensorFlow device (/job:localhost/replica:0/task:0/device:GPU:0 with 3004 MB memory) -> physical GPU (device: 0, name: NVIDIA GeForce GTX 1050, pci bus id: 0000:01:00.0, compute capability: 6.1)\n",
      "2021-07-29 21:59:48.144047: I tensorflow/stream_executor/platform/default/dso_loader.cc:53] Successfully opened dynamic library libcudnn.so.8\n",
      "2021-07-29 21:59:54.180944: I tensorflow/stream_executor/cuda/cuda_dnn.cc:359] Loaded cuDNN version 8202\n",
      "2021-07-29 22:00:01.455667: I tensorflow/stream_executor/platform/default/dso_loader.cc:53] Successfully opened dynamic library libcublas.so.11\n",
      "2021-07-29 22:00:06.643468: I tensorflow/stream_executor/platform/default/dso_loader.cc:53] Successfully opened dynamic library libcublasLt.so.11\n",
      "2021-07-29 22:00:07.457448: I tensorflow/compiler/mlir/mlir_graph_optimization_pass.cc:176] None of the MLIR Optimization Passes are enabled (registered 2)\n",
      "2021-07-29 22:00:07.490561: I tensorflow/core/platform/profile_utils/cpu_utils.cc:114] CPU Frequency: 2799925000 Hz\n"
     ]
    },
    {
     "output_type": "stream",
     "name": "stdout",
     "text": [
      "Epoch 1/2\n",
      "166/166 [==============================] - 50s 186ms/step - loss: 0.6035 - accuracy: 0.6828 - val_loss: 0.3401 - val_accuracy: 0.8568\n",
      "Epoch 2/2\n",
      "166/166 [==============================] - 20s 120ms/step - loss: 0.3305 - accuracy: 0.8550 - val_loss: 0.2686 - val_accuracy: 0.8899\n",
      "Model: \"sequential\"\n",
      "_________________________________________________________________\n",
      "Layer (type)                 Output Shape              Param #   \n",
      "=================================================================\n",
      "module_wrapper (ModuleWrappe (None, None, None, 32)    320       \n",
      "_________________________________________________________________\n",
      "module_wrapper_1 (ModuleWrap (None, None, None, 32)    0         \n",
      "_________________________________________________________________\n",
      "module_wrapper_2 (ModuleWrap (None, None, None, 64)    18496     \n",
      "_________________________________________________________________\n",
      "module_wrapper_3 (ModuleWrap (None, None, None, 64)    0         \n",
      "_________________________________________________________________\n",
      "module_wrapper_4 (ModuleWrap (None, None, None, 32)    18464     \n",
      "_________________________________________________________________\n",
      "module_wrapper_5 (ModuleWrap (None, None, None, 32)    0         \n",
      "_________________________________________________________________\n",
      "module_wrapper_6 (ModuleWrap (None, None, None, 32)    0         \n",
      "_________________________________________________________________\n",
      "module_wrapper_7 (ModuleWrap (None, None)              0         \n",
      "_________________________________________________________________\n",
      "module_wrapper_8 (ModuleWrap (None, 64)                1722432   \n",
      "_________________________________________________________________\n",
      "module_wrapper_9 (ModuleWrap (None, 64)                0         \n",
      "_________________________________________________________________\n",
      "module_wrapper_10 (ModuleWra (None, 2)                 130       \n",
      "=================================================================\n",
      "Total params: 1,759,842\n",
      "Trainable params: 1,759,842\n",
      "Non-trainable params: 0\n",
      "_________________________________________________________________\n"
     ]
    }
   ],
   "metadata": {
    "execution": {
     "iopub.execute_input": "2021-07-12T20:07:36.991726Z",
     "iopub.status.busy": "2021-07-12T20:07:36.991011Z",
     "iopub.status.idle": "2021-07-12T20:07:37.167691Z",
     "shell.execute_reply": "2021-07-12T20:07:37.166991Z",
     "shell.execute_reply.started": "2021-07-08T20:14:16.102904Z"
    },
    "papermill": {
     "duration": 0.246623,
     "end_time": "2021-07-12T20:07:37.167831",
     "exception": false,
     "start_time": "2021-07-12T20:07:36.921208",
     "status": "completed"
    },
    "tags": []
   }
  },
  {
   "cell_type": "code",
   "execution_count": 12,
   "source": [
    "#resuts from model 1\n",
    "plot_loss_and_accuracy(history_CNN.history)"
   ],
   "outputs": [
    {
     "output_type": "display_data",
     "data": {
      "text/plain": [
       "<Figure size 432x288 with 1 Axes>"
      ],
      "image/png": "[encoded data removed]"
     },
     "metadata": {
      "needs_background": "light"
     }
    },
    {
     "output_type": "display_data",
     "data": {
      "text/plain": [
       "<Figure size 432x288 with 1 Axes>"
      ],
      "image/png": "[encoded data removed]"
     },
     "metadata": {
      "needs_background": "light"
     }
    }
   ],
   "metadata": {
    "execution": {
     "iopub.execute_input": "2021-07-12T21:18:28.904255Z",
     "iopub.status.busy": "2021-07-12T21:18:28.903396Z",
     "iopub.status.idle": "2021-07-12T21:18:29.327746Z",
     "shell.execute_reply": "2021-07-12T21:18:29.327080Z"
    },
    "papermill": {
     "duration": 1.268095,
     "end_time": "2021-07-12T21:18:29.327909",
     "exception": false,
     "start_time": "2021-07-12T21:18:28.059814",
     "status": "completed"
    },
    "tags": []
   }
  },
  {
   "cell_type": "markdown",
   "source": [
    "The above charts show the accuracy and loss for the training set and test set. In the loss chart we see the test set in orange stabilize much faster than the training loss. This same behavior is seen in the accuracy chart. This shows there exists some overfitting in the model. Next, I will adjust the parameters in the second model to overcome the overfitting."
   ],
   "metadata": {
    "papermill": {
     "duration": 0.845662,
     "end_time": "2021-07-12T21:18:31.030831",
     "exception": false,
     "start_time": "2021-07-12T21:18:30.185169",
     "status": "completed"
    },
    "tags": []
   }
  },
  {
   "cell_type": "code",
   "execution_count": 13,
   "source": [
    "pred = CNN_2.predict(test)\n",
    "pred = np.argmax(pred, axis=1) #pick class with highest  probability\n",
    "\n",
    "labels = (train.class_indices)\n",
    "labels = dict((v,k) for k,v in labels.items())\n",
    "pred2 = [labels[k] for k in pred]\n",
    "\n",
    "y_test = test_set.labels # set y_test to the expected output\n",
    "print(classification_report(y_test, pred2))"
   ],
   "outputs": [
    {
     "output_type": "stream",
     "name": "stdout",
     "text": [
      "              precision    recall  f1-score   support\n",
      "\n",
      "   with_mask       0.87      0.88      0.88       889\n",
      "without_mask       0.88      0.88      0.88       923\n",
      "\n",
      "    accuracy                           0.88      1812\n",
      "   macro avg       0.88      0.88      0.88      1812\n",
      "weighted avg       0.88      0.88      0.88      1812\n",
      "\n"
     ]
    }
   ],
   "metadata": {
    "execution": {
     "iopub.execute_input": "2021-07-12T21:18:32.720756Z",
     "iopub.status.busy": "2021-07-12T21:18:32.719861Z",
     "iopub.status.idle": "2021-07-12T21:19:04.526014Z",
     "shell.execute_reply": "2021-07-12T21:19:04.526543Z"
    },
    "papermill": {
     "duration": 32.658883,
     "end_time": "2021-07-12T21:19:04.526721",
     "exception": false,
     "start_time": "2021-07-12T21:18:31.867838",
     "status": "completed"
    },
    "tags": []
   }
  },
  {
   "cell_type": "markdown",
   "source": [
    "# Model #2"
   ],
   "metadata": {
    "papermill": {
     "duration": 0.834965,
     "end_time": "2021-07-12T21:19:06.199761",
     "exception": false,
     "start_time": "2021-07-12T21:19:05.364796",
     "status": "completed"
    },
    "tags": []
   }
  },
  {
   "cell_type": "code",
   "execution_count": 14,
   "source": [
    "from tensorflow.keras import layers\n",
    "\n",
    "MyCnn = tf.keras.models.Sequential([\n",
    "  layers.Conv2D(32, 3, activation='relu',input_shape=(244,244,1)),\n",
    "  layers.MaxPooling2D(),\n",
    "    \n",
    "  layers.Conv2D(64, 3, activation='relu'),\n",
    "  layers.MaxPooling2D(),\n",
    "    \n",
    "  layers.Conv2D(128, 3, activation='relu'),\n",
    "  layers.MaxPooling2D(),\n",
    "\n",
    "  layers.GlobalAveragePooling2D(),\n",
    "  layers.Dense(256, activation='relu'),\n",
    "  layers.Dense(2, activation= 'softmax')\n",
    "])\n",
    "\n",
    "MyCnn.compile(\n",
    "    optimizer='adam',\n",
    "    loss='categorical_crossentropy',\n",
    "    metrics=['accuracy']\n",
    ")\n",
    "\n",
    "MyCnn.summary()"
   ],
   "outputs": [
    {
     "output_type": "stream",
     "name": "stdout",
     "text": [
      "Model: \"sequential\"\n",
      "_________________________________________________________________\n",
      "Layer (type)                 Output Shape              Param #   \n",
      "=================================================================\n",
      "conv2d_3 (Conv2D)            (None, 242, 242, 32)      320       \n",
      "_________________________________________________________________\n",
      "max_pooling2d_3 (MaxPooling2 (None, 121, 121, 32)      0         \n",
      "_________________________________________________________________\n",
      "conv2d_4 (Conv2D)            (None, 119, 119, 64)      18496     \n",
      "_________________________________________________________________\n",
      "max_pooling2d_4 (MaxPooling2 (None, 59, 59, 64)        0         \n",
      "_________________________________________________________________\n",
      "conv2d_5 (Conv2D)            (None, 57, 57, 128)       73856     \n",
      "_________________________________________________________________\n",
      "max_pooling2d_5 (MaxPooling2 (None, 28, 28, 128)       0         \n",
      "_________________________________________________________________\n",
      "global_average_pooling2d (Gl (None, 128)               0         \n",
      "_________________________________________________________________\n",
      "dense_2 (Dense)              (None, 256)               33024     \n",
      "_________________________________________________________________\n",
      "dense_3 (Dense)              (None, 2)                 514       \n",
      "=================================================================\n",
      "Total params: 126,210\n",
      "Trainable params: 126,210\n",
      "Non-trainable params: 0\n",
      "_________________________________________________________________\n"
     ]
    }
   ],
   "metadata": {
    "execution": {
     "iopub.execute_input": "2021-07-12T21:19:07.911402Z",
     "iopub.status.busy": "2021-07-12T21:19:07.910678Z",
     "iopub.status.idle": "2021-07-12T21:19:07.995603Z",
     "shell.execute_reply": "2021-07-12T21:19:07.994999Z",
     "shell.execute_reply.started": "2021-07-09T14:55:16.754976Z"
    },
    "papermill": {
     "duration": 0.965778,
     "end_time": "2021-07-12T21:19:07.995786",
     "exception": false,
     "start_time": "2021-07-12T21:19:07.030008",
     "status": "completed"
    },
    "tags": []
   }
  },
  {
   "cell_type": "code",
   "execution_count": 15,
   "source": [
    "history_my_CNN = MyCnn.fit(train, validation_data= val, epochs=30,verbose=1)"
   ],
   "outputs": [
    {
     "output_type": "stream",
     "name": "stdout",
     "text": [
      "Epoch 1/30\n",
      "166/166 [==============================] - 29s 164ms/step - loss: 0.6550 - accuracy: 0.5933 - val_loss: 0.6125 - val_accuracy: 0.6652\n",
      "Epoch 2/30\n",
      "166/166 [==============================] - 27s 160ms/step - loss: 0.6131 - accuracy: 0.6510 - val_loss: 0.5704 - val_accuracy: 0.6916\n",
      "Epoch 3/30\n",
      "166/166 [==============================] - 27s 162ms/step - loss: 0.5584 - accuracy: 0.6984 - val_loss: 0.4999 - val_accuracy: 0.7577\n",
      "Epoch 4/30\n",
      "166/166 [==============================] - 27s 161ms/step - loss: 0.4778 - accuracy: 0.7677 - val_loss: 0.4520 - val_accuracy: 0.7930\n",
      "Epoch 5/30\n",
      "166/166 [==============================] - 27s 161ms/step - loss: 0.4225 - accuracy: 0.8059 - val_loss: 0.3963 - val_accuracy: 0.8502\n",
      "Epoch 6/30\n",
      "166/166 [==============================] - 27s 162ms/step - loss: 0.3849 - accuracy: 0.8324 - val_loss: 0.3804 - val_accuracy: 0.8458\n",
      "Epoch 7/30\n",
      "166/166 [==============================] - 27s 161ms/step - loss: 0.3460 - accuracy: 0.8540 - val_loss: 0.3085 - val_accuracy: 0.8855\n",
      "Epoch 8/30\n",
      "166/166 [==============================] - 27s 159ms/step - loss: 0.3137 - accuracy: 0.8668 - val_loss: 0.3212 - val_accuracy: 0.8678\n",
      "Epoch 9/30\n",
      "166/166 [==============================] - 27s 159ms/step - loss: 0.2808 - accuracy: 0.8901 - val_loss: 0.2717 - val_accuracy: 0.8855\n",
      "Epoch 10/30\n",
      "166/166 [==============================] - 26s 159ms/step - loss: 0.2660 - accuracy: 0.8891 - val_loss: 0.2580 - val_accuracy: 0.8987\n",
      "Epoch 11/30\n",
      "166/166 [==============================] - 26s 159ms/step - loss: 0.2288 - accuracy: 0.9103 - val_loss: 0.2529 - val_accuracy: 0.9031\n",
      "Epoch 12/30\n",
      "166/166 [==============================] - 26s 159ms/step - loss: 0.2145 - accuracy: 0.9145 - val_loss: 0.2497 - val_accuracy: 0.9009\n",
      "Epoch 13/30\n",
      "166/166 [==============================] - 24s 143ms/step - loss: 0.2199 - accuracy: 0.9118 - val_loss: 0.2425 - val_accuracy: 0.9097\n",
      "Epoch 14/30\n",
      "166/166 [==============================] - 23s 137ms/step - loss: 0.2044 - accuracy: 0.9171 - val_loss: 0.2283 - val_accuracy: 0.9251\n",
      "Epoch 15/30\n",
      "166/166 [==============================] - 23s 137ms/step - loss: 0.1754 - accuracy: 0.9313 - val_loss: 0.2252 - val_accuracy: 0.9207\n",
      "Epoch 16/30\n",
      "166/166 [==============================] - 23s 138ms/step - loss: 0.1783 - accuracy: 0.9292 - val_loss: 0.2162 - val_accuracy: 0.9185\n",
      "Epoch 17/30\n",
      "166/166 [==============================] - 23s 140ms/step - loss: 0.1636 - accuracy: 0.9397 - val_loss: 0.2171 - val_accuracy: 0.9119\n",
      "Epoch 18/30\n",
      "166/166 [==============================] - 24s 147ms/step - loss: 0.1494 - accuracy: 0.9429 - val_loss: 0.2176 - val_accuracy: 0.9163\n",
      "Epoch 19/30\n",
      "166/166 [==============================] - 33s 200ms/step - loss: 0.1575 - accuracy: 0.9376 - val_loss: 0.2087 - val_accuracy: 0.9317\n",
      "Epoch 20/30\n",
      "166/166 [==============================] - 33s 201ms/step - loss: 0.1413 - accuracy: 0.9510 - val_loss: 0.2234 - val_accuracy: 0.9229\n",
      "Epoch 21/30\n",
      "166/166 [==============================] - 33s 201ms/step - loss: 0.1508 - accuracy: 0.9393 - val_loss: 0.1807 - val_accuracy: 0.9317\n",
      "Epoch 22/30\n",
      "166/166 [==============================] - 34s 202ms/step - loss: 0.1366 - accuracy: 0.9485 - val_loss: 0.1904 - val_accuracy: 0.9339\n",
      "Epoch 23/30\n",
      "166/166 [==============================] - 34s 198ms/step - loss: 0.1243 - accuracy: 0.9548 - val_loss: 0.3200 - val_accuracy: 0.8789\n",
      "Epoch 24/30\n",
      "166/166 [==============================] - 34s 202ms/step - loss: 0.1377 - accuracy: 0.9489 - val_loss: 0.1722 - val_accuracy: 0.9317\n",
      "Epoch 25/30\n",
      "166/166 [==============================] - 33s 200ms/step - loss: 0.1205 - accuracy: 0.9533 - val_loss: 0.1877 - val_accuracy: 0.9317\n",
      "Epoch 26/30\n",
      "166/166 [==============================] - 34s 202ms/step - loss: 0.1108 - accuracy: 0.9593 - val_loss: 0.1987 - val_accuracy: 0.9295\n",
      "Epoch 27/30\n",
      "166/166 [==============================] - 34s 203ms/step - loss: 0.1247 - accuracy: 0.9552 - val_loss: 0.1802 - val_accuracy: 0.9361\n",
      "Epoch 28/30\n",
      "166/166 [==============================] - 33s 200ms/step - loss: 0.1083 - accuracy: 0.9635 - val_loss: 0.1784 - val_accuracy: 0.9317\n",
      "Epoch 29/30\n",
      "166/166 [==============================] - 33s 201ms/step - loss: 0.1038 - accuracy: 0.9639 - val_loss: 0.1805 - val_accuracy: 0.9405\n",
      "Epoch 30/30\n",
      "166/166 [==============================] - 33s 199ms/step - loss: 0.1026 - accuracy: 0.9627 - val_loss: 0.1860 - val_accuracy: 0.9361\n"
     ]
    }
   ],
   "metadata": {
    "execution": {
     "iopub.execute_input": "2021-07-12T21:19:09.695781Z",
     "iopub.status.busy": "2021-07-12T21:19:09.695081Z",
     "iopub.status.idle": "2021-07-12T22:41:59.460430Z",
     "shell.execute_reply": "2021-07-12T22:41:59.459765Z",
     "shell.execute_reply.started": "2021-07-09T14:56:43.768648Z"
    },
    "papermill": {
     "duration": 4970.618313,
     "end_time": "2021-07-12T22:41:59.460624",
     "exception": false,
     "start_time": "2021-07-12T21:19:08.842311",
     "status": "completed"
    },
    "tags": []
   }
  },
  {
   "cell_type": "code",
   "execution_count": 16,
   "source": [
    "plot_loss_and_accuracy(history_my_CNN.history)"
   ],
   "outputs": [
    {
     "output_type": "display_data",
     "data": {
      "text/plain": [
       "<Figure size 432x288 with 1 Axes>"
      ],
      "image/png": "[encoded data removed]"
     },
     "metadata": {
      "needs_background": "light"
     }
    },
    {
     "output_type": "display_data",
     "data": {
      "text/plain": [
       "<Figure size 432x288 with 1 Axes>"
      ],
      "image/png": "[encoded data removed]"
     },
     "metadata": {
      "needs_background": "light"
     }
    }
   ],
   "metadata": {
    "execution": {
     "iopub.execute_input": "2021-07-12T22:42:02.681104Z",
     "iopub.status.busy": "2021-07-12T22:42:02.680415Z",
     "iopub.status.idle": "2021-07-12T22:42:03.019692Z",
     "shell.execute_reply": "2021-07-12T22:42:03.020226Z",
     "shell.execute_reply.started": "2021-07-09T16:42:52.24374Z"
    },
    "papermill": {
     "duration": 1.970491,
     "end_time": "2021-07-12T22:42:03.020424",
     "exception": false,
     "start_time": "2021-07-12T22:42:01.049933",
     "status": "completed"
    },
    "tags": []
   }
  },
  {
   "cell_type": "markdown",
   "source": [
    "The above charts show the accuracy and loss for the training set and test set for the second model. In the loss chart we see the test set in orange stabilizes at about the same rate as the training loss in blue. Although we have overcome overfitting, the accuracy of this model#2 is similar to model#1. The similarities can also seen in the confusion matricies below."
   ],
   "metadata": {
    "papermill": {
     "duration": 1.625701,
     "end_time": "2021-07-12T22:42:06.246713",
     "exception": false,
     "start_time": "2021-07-12T22:42:04.621012",
     "status": "completed"
    },
    "tags": []
   }
  },
  {
   "cell_type": "code",
   "execution_count": 17,
   "source": [
    "# save the model with name face-mask-image-classification-with-keras\n",
    "MyCnn.save('face-mask-image-classification-with-keras_2.h5')"
   ],
   "outputs": [],
   "metadata": {}
  },
  {
   "cell_type": "markdown",
   "source": [
    "# Confustion Matrix"
   ],
   "metadata": {
    "papermill": {
     "duration": 1.65902,
     "end_time": "2021-07-12T22:42:10.273103",
     "exception": false,
     "start_time": "2021-07-12T22:42:08.614083",
     "status": "completed"
    },
    "tags": []
   }
  },
  {
   "cell_type": "code",
   "execution_count": 18,
   "source": [
    "pred_mod2 = MyCnn.predict(test)\n",
    "pred_mod2 = np.argmax(pred_mod2, axis=1) #pick class with highest  probability\n",
    "\n",
    "labels = (train.class_indices)\n",
    "labels = dict((v,k) for k,v in labels.items())\n",
    "pred2_mod2 = [labels[k] for k in pred_mod2]\n",
    "\n",
    "y_test = test_set.labels # set y_test to the expected output\n",
    "print(classification_report(y_test, pred2_mod2))"
   ],
   "outputs": [
    {
     "output_type": "stream",
     "name": "stdout",
     "text": [
      "              precision    recall  f1-score   support\n",
      "\n",
      "   with_mask       0.92      0.96      0.94       889\n",
      "without_mask       0.96      0.92      0.94       923\n",
      "\n",
      "    accuracy                           0.94      1812\n",
      "   macro avg       0.94      0.94      0.94      1812\n",
      "weighted avg       0.94      0.94      0.94      1812\n",
      "\n"
     ]
    }
   ],
   "metadata": {
    "execution": {
     "iopub.execute_input": "2021-07-12T22:42:13.496728Z",
     "iopub.status.busy": "2021-07-12T22:42:13.496069Z",
     "iopub.status.idle": "2021-07-12T22:42:49.368654Z",
     "shell.execute_reply": "2021-07-12T22:42:49.369251Z",
     "shell.execute_reply.started": "2021-07-09T16:49:04.138445Z"
    },
    "papermill": {
     "duration": 37.473561,
     "end_time": "2021-07-12T22:42:49.369442",
     "exception": false,
     "start_time": "2021-07-12T22:42:11.895881",
     "status": "completed"
    },
    "tags": []
   }
  },
  {
   "cell_type": "code",
   "execution_count": 19,
   "source": [
    "# model 1\n",
    "from sklearn.metrics import confusion_matrix, accuracy_score\n",
    "plt.figure(figsize = (10,5))\n",
    "cm = confusion_matrix(y_test, pred2)\n",
    "sns.heatmap(cm, annot=True, fmt = 'g')"
   ],
   "outputs": [
    {
     "output_type": "execute_result",
     "data": {
      "text/plain": [
       "<AxesSubplot:>"
      ]
     },
     "metadata": {},
     "execution_count": 19
    },
    {
     "output_type": "display_data",
     "data": {
      "text/plain": [
       "<Figure size 720x360 with 2 Axes>"
      ],
      "image/png": "[encoded data removed]"
     },
     "metadata": {
      "needs_background": "light"
     }
    }
   ],
   "metadata": {
    "execution": {
     "iopub.execute_input": "2021-07-12T22:42:52.696623Z",
     "iopub.status.busy": "2021-07-12T22:42:52.695956Z",
     "iopub.status.idle": "2021-07-12T22:42:52.954482Z",
     "shell.execute_reply": "2021-07-12T22:42:52.955037Z",
     "shell.execute_reply.started": "2021-07-07T19:43:27.081814Z"
    },
    "papermill": {
     "duration": 1.936397,
     "end_time": "2021-07-12T22:42:52.955256",
     "exception": false,
     "start_time": "2021-07-12T22:42:51.018859",
     "status": "completed"
    },
    "tags": []
   }
  },
  {
   "cell_type": "code",
   "execution_count": 20,
   "source": [
    "# model 2\n",
    "from sklearn.metrics import confusion_matrix, accuracy_score\n",
    "plt.figure(figsize = (10,5))\n",
    "cm = confusion_matrix(y_test, pred2_mod2)\n",
    "sns.heatmap(cm, annot=True, fmt = 'g')"
   ],
   "outputs": [
    {
     "output_type": "execute_result",
     "data": {
      "text/plain": [
       "<AxesSubplot:>"
      ]
     },
     "metadata": {},
     "execution_count": 20
    },
    {
     "output_type": "display_data",
     "data": {
      "text/plain": [
       "<Figure size 720x360 with 2 Axes>"
      ],
      "image/png": "[encoded data removed]"
     },
     "metadata": {
      "needs_background": "light"
     }
    }
   ],
   "metadata": {
    "execution": {
     "iopub.execute_input": "2021-07-12T22:42:56.229319Z",
     "iopub.status.busy": "2021-07-12T22:42:56.228637Z",
     "iopub.status.idle": "2021-07-12T22:42:56.487968Z",
     "shell.execute_reply": "2021-07-12T22:42:56.488617Z",
     "shell.execute_reply.started": "2021-07-09T16:52:31.981562Z"
    },
    "papermill": {
     "duration": 1.880856,
     "end_time": "2021-07-12T22:42:56.488811",
     "exception": false,
     "start_time": "2021-07-12T22:42:54.607955",
     "status": "completed"
    },
    "tags": []
   }
  },
  {
   "cell_type": "code",
   "execution_count": 21,
   "source": [
    "#%run real-time-mask-detction.ipynb"
   ],
   "outputs": [],
   "metadata": {}
  },
  {
   "cell_type": "markdown",
   "source": [
    "A special thanks to the following notebooks:\n",
    "\n",
    "* [Brain Tumor Classification- 98.4% Accuracy](https://www.kaggle.com/purvitsharma/brain-tumor-classification-98-4-accuracy) - [Purvit Vashishtha](https://www.kaggle.com/purvitsharma)\n",
    "* [CnnForMaskDetection(Improved:Size and Performance)](https://www.kaggle.com/vanvalkenberg/cnnformaskdetection-improved-size-and-performance) - [Ritwek Khosla](https://www.kaggle.com/vanvalkenberg)"
   ],
   "metadata": {
    "papermill": {
     "duration": 1.618483,
     "end_time": "2021-07-12T22:42:59.703333",
     "exception": false,
     "start_time": "2021-07-12T22:42:58.084850",
     "status": "completed"
    },
    "tags": []
   }
  }
 ],
 "metadata": {
  "kernelspec": {
   "name": "python3",
   "display_name": "Python 3.8.10 64-bit"
  },
  "language_info": {
   "codemirror_mode": {
    "name": "ipython",
    "version": 3
   },
   "file_extension": ".py",
   "mimetype": "text/x-python",
   "name": "python",
   "nbconvert_exporter": "python",
   "pygments_lexer": "ipython3",
   "version": "3.8.10"
  },
  "papermill": {
   "default_parameters": {},
   "duration": 9360.881323,
   "end_time": "2021-07-12T22:43:03.656858",
   "environment_variables": {},
   "exception": null,
   "input_path": "__notebook__.ipynb",
   "output_path": "__notebook__.ipynb",
   "parameters": {},
   "start_time": "2021-07-12T20:07:02.775535",
   "version": "2.3.3"
  },
  "interpreter": {
   "hash": "916dbcbb3f70747c44a77c7bcd40155683ae19c65e1c03b4aa3499c5328201f1"
  }
 },
 "nbformat": 4,
 "nbformat_minor": 5
}